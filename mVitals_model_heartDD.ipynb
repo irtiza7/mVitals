{
  "nbformat": 4,
  "nbformat_minor": 0,
  "metadata": {
    "colab": {
      "name": "mVitals-model-heartDD.ipynb",
      "provenance": [],
      "collapsed_sections": [],
      "toc_visible": true
    },
    "kernelspec": {
      "name": "python3",
      "display_name": "Python 3"
    }
  },
  "cells": [
    {
      "cell_type": "markdown",
      "metadata": {
        "id": "ovh239r1wUsS"
      },
      "source": [
        "*In this project, we have used Cardiovascular Disease dataset from kaggle. Based on some health conditions of an individual.*\r\n",
        "\r\n",
        "**Our model will predict whether he/she has any cardiovascular disease or not.**"
      ]
    },
    {
      "cell_type": "markdown",
      "metadata": {
        "id": "JNqpeqWuw7rY"
      },
      "source": [
        "Features:\r\n",
        "\r\n",
        "*   Age | Objective Feature | age | int (days)\r\n",
        "\r\n",
        "*   Height | Objective Feature | height | int (cm) |\r\n",
        "\r\n",
        "*   Weight | Objective Feature | weight | float (kg) |\r\n",
        "\r\n",
        "*   Gender | Objective Feature | gender | categorical code |\r\n",
        "\r\n",
        "*   Systolic blood pressure | Examination Feature | ap_hi | int |\r\n",
        "\r\n",
        "*   Diastolic blood pressure | Examination Feature | ap_lo | int |\r\n",
        "\r\n",
        "*   Cholesterol | Examination Feature | cholesterol | 1: normal, 2: above normal, 3: well above normal |\r\n",
        "\r\n",
        "*   Glucose | Examination Feature | gluc | 1: normal, 2: above normal, 3: well above normal |\r\n",
        "\r\n",
        "*   Smoking | Subjective Feature | smoke | binary |\r\n",
        "\r\n",
        "*   Alcohol intake | Subjective Feature | alco | binary |\r\n",
        "\r\n",
        "*   Physical activity | Subjective Feature | active | binary |\r\n",
        "\r\n",
        "*   Presence or absence of cardiovascular disease | Target Variable | cardio | binary |\r\n",
        "\r\n"
      ]
    },
    {
      "cell_type": "markdown",
      "metadata": {
        "id": "mpNfWxchpevZ"
      },
      "source": [
        "# Importing Libraries"
      ]
    },
    {
      "cell_type": "code",
      "metadata": {
        "id": "VBazlrVXNUIf"
      },
      "source": [
        "#importing basic libraries\r\n",
        "import numpy as np\r\n",
        "import pandas as pd\r\n",
        "import matplotlib.pyplot as plt\r\n",
        "import seaborn as sns\r\n",
        "sns.set()\r\n",
        "import warnings\r\n",
        "warnings.filterwarnings('ignore')"
      ],
      "execution_count": 1,
      "outputs": []
    },
    {
      "cell_type": "markdown",
      "metadata": {
        "id": "Ozaho8BcpsRF"
      },
      "source": [
        "# Loading Data"
      ]
    },
    {
      "cell_type": "code",
      "metadata": {
        "id": "8ceBbpD-prRv",
        "colab": {
          "base_uri": "https://localhost:8080/"
        },
        "outputId": "1a859f6f-5910-4bcf-f5dc-79dca1d41f95"
      },
      "source": [
        "# Loading data\r\n",
        "df = pd.read_csv('/content/cardio_train.csv',sep=';')\r\n",
        "# Check the data\r\n",
        "df_names = df\r\n",
        "df_names.info()"
      ],
      "execution_count": 2,
      "outputs": [
        {
          "output_type": "stream",
          "text": [
            "<class 'pandas.core.frame.DataFrame'>\n",
            "RangeIndex: 25072 entries, 0 to 25071\n",
            "Data columns (total 13 columns):\n",
            " #   Column       Non-Null Count  Dtype  \n",
            "---  ------       --------------  -----  \n",
            " 0   id           25072 non-null  int64  \n",
            " 1   age          25072 non-null  int64  \n",
            " 2   gender       25072 non-null  int64  \n",
            " 3   height       25072 non-null  int64  \n",
            " 4   weight       25072 non-null  float64\n",
            " 5   ap_hi        25072 non-null  int64  \n",
            " 6   ap_lo        25072 non-null  int64  \n",
            " 7   cholesterol  25071 non-null  float64\n",
            " 8   gluc         25071 non-null  float64\n",
            " 9   smoke        25071 non-null  float64\n",
            " 10  alco         25071 non-null  float64\n",
            " 11  active       25071 non-null  float64\n",
            " 12  cardio       25071 non-null  float64\n",
            "dtypes: float64(7), int64(6)\n",
            "memory usage: 2.5 MB\n"
          ],
          "name": "stdout"
        }
      ]
    },
    {
      "cell_type": "markdown",
      "metadata": {
        "id": "uvOkWFCkpwLu"
      },
      "source": [
        "## Modifying data"
      ]
    },
    {
      "cell_type": "code",
      "metadata": {
        "colab": {
          "base_uri": "https://localhost:8080/",
          "height": 195
        },
        "id": "_2AGS5Z3OZOa",
        "outputId": "226d928d-b81f-4bb2-a5d2-ca4ceaffec99"
      },
      "source": [
        "df_names = df_names.drop(\"id\", axis=1)\r\n",
        "df_names.age = np.round(df_names.age/365.25,decimals=1)\r\n",
        "df_names.gender = df_names.gender.replace(2,0)\r\n",
        "df_names.head()"
      ],
      "execution_count": 3,
      "outputs": [
        {
          "output_type": "execute_result",
          "data": {
            "text/html": [
              "<div>\n",
              "<style scoped>\n",
              "    .dataframe tbody tr th:only-of-type {\n",
              "        vertical-align: middle;\n",
              "    }\n",
              "\n",
              "    .dataframe tbody tr th {\n",
              "        vertical-align: top;\n",
              "    }\n",
              "\n",
              "    .dataframe thead th {\n",
              "        text-align: right;\n",
              "    }\n",
              "</style>\n",
              "<table border=\"1\" class=\"dataframe\">\n",
              "  <thead>\n",
              "    <tr style=\"text-align: right;\">\n",
              "      <th></th>\n",
              "      <th>age</th>\n",
              "      <th>gender</th>\n",
              "      <th>height</th>\n",
              "      <th>weight</th>\n",
              "      <th>ap_hi</th>\n",
              "      <th>ap_lo</th>\n",
              "      <th>cholesterol</th>\n",
              "      <th>gluc</th>\n",
              "      <th>smoke</th>\n",
              "      <th>alco</th>\n",
              "      <th>active</th>\n",
              "      <th>cardio</th>\n",
              "    </tr>\n",
              "  </thead>\n",
              "  <tbody>\n",
              "    <tr>\n",
              "      <th>0</th>\n",
              "      <td>50.4</td>\n",
              "      <td>0</td>\n",
              "      <td>168</td>\n",
              "      <td>62.0</td>\n",
              "      <td>110</td>\n",
              "      <td>80</td>\n",
              "      <td>1.0</td>\n",
              "      <td>1.0</td>\n",
              "      <td>0.0</td>\n",
              "      <td>0.0</td>\n",
              "      <td>1.0</td>\n",
              "      <td>0.0</td>\n",
              "    </tr>\n",
              "    <tr>\n",
              "      <th>1</th>\n",
              "      <td>55.4</td>\n",
              "      <td>1</td>\n",
              "      <td>156</td>\n",
              "      <td>85.0</td>\n",
              "      <td>140</td>\n",
              "      <td>90</td>\n",
              "      <td>3.0</td>\n",
              "      <td>1.0</td>\n",
              "      <td>0.0</td>\n",
              "      <td>0.0</td>\n",
              "      <td>1.0</td>\n",
              "      <td>1.0</td>\n",
              "    </tr>\n",
              "    <tr>\n",
              "      <th>2</th>\n",
              "      <td>51.6</td>\n",
              "      <td>1</td>\n",
              "      <td>165</td>\n",
              "      <td>64.0</td>\n",
              "      <td>130</td>\n",
              "      <td>70</td>\n",
              "      <td>3.0</td>\n",
              "      <td>1.0</td>\n",
              "      <td>0.0</td>\n",
              "      <td>0.0</td>\n",
              "      <td>0.0</td>\n",
              "      <td>1.0</td>\n",
              "    </tr>\n",
              "    <tr>\n",
              "      <th>3</th>\n",
              "      <td>48.2</td>\n",
              "      <td>0</td>\n",
              "      <td>169</td>\n",
              "      <td>82.0</td>\n",
              "      <td>150</td>\n",
              "      <td>100</td>\n",
              "      <td>1.0</td>\n",
              "      <td>1.0</td>\n",
              "      <td>0.0</td>\n",
              "      <td>0.0</td>\n",
              "      <td>1.0</td>\n",
              "      <td>1.0</td>\n",
              "    </tr>\n",
              "    <tr>\n",
              "      <th>4</th>\n",
              "      <td>47.8</td>\n",
              "      <td>1</td>\n",
              "      <td>156</td>\n",
              "      <td>56.0</td>\n",
              "      <td>100</td>\n",
              "      <td>60</td>\n",
              "      <td>1.0</td>\n",
              "      <td>1.0</td>\n",
              "      <td>0.0</td>\n",
              "      <td>0.0</td>\n",
              "      <td>0.0</td>\n",
              "      <td>0.0</td>\n",
              "    </tr>\n",
              "  </tbody>\n",
              "</table>\n",
              "</div>"
            ],
            "text/plain": [
              "    age  gender  height  weight  ap_hi  ...  gluc  smoke  alco  active  cardio\n",
              "0  50.4       0     168    62.0    110  ...   1.0    0.0   0.0     1.0     0.0\n",
              "1  55.4       1     156    85.0    140  ...   1.0    0.0   0.0     1.0     1.0\n",
              "2  51.6       1     165    64.0    130  ...   1.0    0.0   0.0     0.0     1.0\n",
              "3  48.2       0     169    82.0    150  ...   1.0    0.0   0.0     1.0     1.0\n",
              "4  47.8       1     156    56.0    100  ...   1.0    0.0   0.0     0.0     0.0\n",
              "\n",
              "[5 rows x 12 columns]"
            ]
          },
          "metadata": {
            "tags": []
          },
          "execution_count": 3
        }
      ]
    },
    {
      "cell_type": "markdown",
      "metadata": {
        "id": "LxMHj752p3aI"
      },
      "source": [
        "## Checking data if there is any null value exists"
      ]
    },
    {
      "cell_type": "code",
      "metadata": {
        "colab": {
          "base_uri": "https://localhost:8080/"
        },
        "id": "3yer94mdOdWK",
        "outputId": "3a964a92-5eda-4d2c-bf6e-be95cbeda7e1"
      },
      "source": [
        "df.isnull().any()"
      ],
      "execution_count": 4,
      "outputs": [
        {
          "output_type": "execute_result",
          "data": {
            "text/plain": [
              "id             False\n",
              "age            False\n",
              "gender         False\n",
              "height         False\n",
              "weight         False\n",
              "ap_hi          False\n",
              "ap_lo          False\n",
              "cholesterol     True\n",
              "gluc            True\n",
              "smoke           True\n",
              "alco            True\n",
              "active          True\n",
              "cardio          True\n",
              "dtype: bool"
            ]
          },
          "metadata": {
            "tags": []
          },
          "execution_count": 4
        }
      ]
    },
    {
      "cell_type": "markdown",
      "metadata": {
        "id": "aNK_yhI7p9ft"
      },
      "source": [
        "## Identifying gender from height and weight"
      ]
    },
    {
      "cell_type": "code",
      "metadata": {
        "colab": {
          "base_uri": "https://localhost:8080/"
        },
        "id": "cwK_v1lGO0Dg",
        "outputId": "1e7973e3-75db-4bf7-8d94-1f6f9d8a885d"
      },
      "source": [
        "a = df_names[df_names[\"gender\"]==0][\"height\"].mean()\r\n",
        "b = df_names[df_names[\"gender\"]==1][\"height\"].mean()\r\n",
        "if a > b:\r\n",
        "    gender = \"male\"\r\n",
        "    gender1 = \"female\"\r\n",
        "else:\r\n",
        "    gender = \"female\"\r\n",
        "    gender1 = \"male\"\r\n",
        "print(\"Gender:0 is \"+ gender +\" & Gender:1 is \" + gender1)"
      ],
      "execution_count": 5,
      "outputs": [
        {
          "output_type": "stream",
          "text": [
            "Gender:0 is male & Gender:1 is female\n"
          ],
          "name": "stdout"
        }
      ]
    },
    {
      "cell_type": "markdown",
      "metadata": {
        "id": "TvQdLhY3qZkO"
      },
      "source": [
        "## Checking blood pressure ranges"
      ]
    },
    {
      "cell_type": "code",
      "metadata": {
        "id": "zJ7wgYLAPQzK"
      },
      "source": [
        "df_names= df_names[(df_names['ap_lo']<360) & (df_names['ap_hi']<360)].copy()\r\n",
        "df_names= df_names[(df_names['ap_lo']>20) & (df_names['ap_hi']>20)].copy()\r\n",
        "data=df_names[df_names['ap_hi']>df_names['ap_lo']]"
      ],
      "execution_count": 6,
      "outputs": []
    },
    {
      "cell_type": "markdown",
      "metadata": {
        "id": "lgbaS5khqh8e"
      },
      "source": [
        "### Systolic Blood pressure"
      ]
    },
    {
      "cell_type": "code",
      "metadata": {
        "colab": {
          "base_uri": "https://localhost:8080/",
          "height": 285
        },
        "id": "Eib0GnWYPUsJ",
        "outputId": "c39658ab-1cc5-4a1f-8ce9-316e6b27a1a9"
      },
      "source": [
        "sns.violinplot(data.ap_hi,color='orange');"
      ],
      "execution_count": 7,
      "outputs": [
        {
          "output_type": "display_data",
          "data": {
            "image/png": "[encoded data removed]",
            "text/plain": [
              "<Figure size 432x288 with 1 Axes>"
            ]
          },
          "metadata": {
            "tags": [],
            "needs_background": "light"
          }
        }
      ]
    },
    {
      "cell_type": "markdown",
      "metadata": {
        "id": "ZP82Jsjuq5Mf"
      },
      "source": [
        "### Diastolic Blood pressure"
      ]
    },
    {
      "cell_type": "code",
      "metadata": {
        "colab": {
          "base_uri": "https://localhost:8080/",
          "height": 285
        },
        "id": "fLeW8zy7PViS",
        "outputId": "6cde2cb9-fbbb-4914-d994-83f1812822aa"
      },
      "source": [
        "sns.violinplot(data.ap_lo,color='orange');"
      ],
      "execution_count": 8,
      "outputs": [
        {
          "output_type": "display_data",
          "data": {
            "image/png": "[encoded data removed]",
            "text/plain": [
              "<Figure size 432x288 with 1 Axes>"
            ]
          },
          "metadata": {
            "tags": [],
            "needs_background": "light"
          }
        }
      ]
    },
    {
      "cell_type": "markdown",
      "metadata": {
        "id": "9FHMd_mcrEQU"
      },
      "source": [
        "## Saving modified data"
      ]
    },
    {
      "cell_type": "code",
      "metadata": {
        "colab": {
          "base_uri": "https://localhost:8080/",
          "height": 402
        },
        "id": "njnuJ1pnSaDD",
        "outputId": "96e49d40-983b-4539-e6b9-e6072725752c"
      },
      "source": [
        "df_names"
      ],
      "execution_count": 9,
      "outputs": [
        {
          "output_type": "execute_result",
          "data": {
            "text/html": [
              "<div>\n",
              "<style scoped>\n",
              "    .dataframe tbody tr th:only-of-type {\n",
              "        vertical-align: middle;\n",
              "    }\n",
              "\n",
              "    .dataframe tbody tr th {\n",
              "        vertical-align: top;\n",
              "    }\n",
              "\n",
              "    .dataframe thead th {\n",
              "        text-align: right;\n",
              "    }\n",
              "</style>\n",
              "<table border=\"1\" class=\"dataframe\">\n",
              "  <thead>\n",
              "    <tr style=\"text-align: right;\">\n",
              "      <th></th>\n",
              "      <th>age</th>\n",
              "      <th>gender</th>\n",
              "      <th>height</th>\n",
              "      <th>weight</th>\n",
              "      <th>ap_hi</th>\n",
              "      <th>ap_lo</th>\n",
              "      <th>cholesterol</th>\n",
              "      <th>gluc</th>\n",
              "      <th>smoke</th>\n",
              "      <th>alco</th>\n",
              "      <th>active</th>\n",
              "      <th>cardio</th>\n",
              "    </tr>\n",
              "  </thead>\n",
              "  <tbody>\n",
              "    <tr>\n",
              "      <th>0</th>\n",
              "      <td>50.4</td>\n",
              "      <td>0</td>\n",
              "      <td>168</td>\n",
              "      <td>62.0</td>\n",
              "      <td>110</td>\n",
              "      <td>80</td>\n",
              "      <td>1.0</td>\n",
              "      <td>1.0</td>\n",
              "      <td>0.0</td>\n",
              "      <td>0.0</td>\n",
              "      <td>1.0</td>\n",
              "      <td>0.0</td>\n",
              "    </tr>\n",
              "    <tr>\n",
              "      <th>1</th>\n",
              "      <td>55.4</td>\n",
              "      <td>1</td>\n",
              "      <td>156</td>\n",
              "      <td>85.0</td>\n",
              "      <td>140</td>\n",
              "      <td>90</td>\n",
              "      <td>3.0</td>\n",
              "      <td>1.0</td>\n",
              "      <td>0.0</td>\n",
              "      <td>0.0</td>\n",
              "      <td>1.0</td>\n",
              "      <td>1.0</td>\n",
              "    </tr>\n",
              "    <tr>\n",
              "      <th>2</th>\n",
              "      <td>51.6</td>\n",
              "      <td>1</td>\n",
              "      <td>165</td>\n",
              "      <td>64.0</td>\n",
              "      <td>130</td>\n",
              "      <td>70</td>\n",
              "      <td>3.0</td>\n",
              "      <td>1.0</td>\n",
              "      <td>0.0</td>\n",
              "      <td>0.0</td>\n",
              "      <td>0.0</td>\n",
              "      <td>1.0</td>\n",
              "    </tr>\n",
              "    <tr>\n",
              "      <th>3</th>\n",
              "      <td>48.2</td>\n",
              "      <td>0</td>\n",
              "      <td>169</td>\n",
              "      <td>82.0</td>\n",
              "      <td>150</td>\n",
              "      <td>100</td>\n",
              "      <td>1.0</td>\n",
              "      <td>1.0</td>\n",
              "      <td>0.0</td>\n",
              "      <td>0.0</td>\n",
              "      <td>1.0</td>\n",
              "      <td>1.0</td>\n",
              "    </tr>\n",
              "    <tr>\n",
              "      <th>4</th>\n",
              "      <td>47.8</td>\n",
              "      <td>1</td>\n",
              "      <td>156</td>\n",
              "      <td>56.0</td>\n",
              "      <td>100</td>\n",
              "      <td>60</td>\n",
              "      <td>1.0</td>\n",
              "      <td>1.0</td>\n",
              "      <td>0.0</td>\n",
              "      <td>0.0</td>\n",
              "      <td>0.0</td>\n",
              "      <td>0.0</td>\n",
              "    </tr>\n",
              "    <tr>\n",
              "      <th>...</th>\n",
              "      <td>...</td>\n",
              "      <td>...</td>\n",
              "      <td>...</td>\n",
              "      <td>...</td>\n",
              "      <td>...</td>\n",
              "      <td>...</td>\n",
              "      <td>...</td>\n",
              "      <td>...</td>\n",
              "      <td>...</td>\n",
              "      <td>...</td>\n",
              "      <td>...</td>\n",
              "      <td>...</td>\n",
              "    </tr>\n",
              "    <tr>\n",
              "      <th>25066</th>\n",
              "      <td>50.0</td>\n",
              "      <td>0</td>\n",
              "      <td>156</td>\n",
              "      <td>59.0</td>\n",
              "      <td>120</td>\n",
              "      <td>80</td>\n",
              "      <td>1.0</td>\n",
              "      <td>1.0</td>\n",
              "      <td>1.0</td>\n",
              "      <td>0.0</td>\n",
              "      <td>1.0</td>\n",
              "      <td>0.0</td>\n",
              "    </tr>\n",
              "    <tr>\n",
              "      <th>25067</th>\n",
              "      <td>52.3</td>\n",
              "      <td>1</td>\n",
              "      <td>159</td>\n",
              "      <td>59.0</td>\n",
              "      <td>120</td>\n",
              "      <td>80</td>\n",
              "      <td>1.0</td>\n",
              "      <td>1.0</td>\n",
              "      <td>0.0</td>\n",
              "      <td>0.0</td>\n",
              "      <td>1.0</td>\n",
              "      <td>1.0</td>\n",
              "    </tr>\n",
              "    <tr>\n",
              "      <th>25068</th>\n",
              "      <td>46.1</td>\n",
              "      <td>0</td>\n",
              "      <td>175</td>\n",
              "      <td>86.0</td>\n",
              "      <td>140</td>\n",
              "      <td>80</td>\n",
              "      <td>2.0</td>\n",
              "      <td>1.0</td>\n",
              "      <td>1.0</td>\n",
              "      <td>0.0</td>\n",
              "      <td>1.0</td>\n",
              "      <td>1.0</td>\n",
              "    </tr>\n",
              "    <tr>\n",
              "      <th>25069</th>\n",
              "      <td>53.6</td>\n",
              "      <td>1</td>\n",
              "      <td>162</td>\n",
              "      <td>68.0</td>\n",
              "      <td>110</td>\n",
              "      <td>60</td>\n",
              "      <td>3.0</td>\n",
              "      <td>1.0</td>\n",
              "      <td>0.0</td>\n",
              "      <td>0.0</td>\n",
              "      <td>1.0</td>\n",
              "      <td>1.0</td>\n",
              "    </tr>\n",
              "    <tr>\n",
              "      <th>25070</th>\n",
              "      <td>40.3</td>\n",
              "      <td>0</td>\n",
              "      <td>162</td>\n",
              "      <td>64.0</td>\n",
              "      <td>120</td>\n",
              "      <td>70</td>\n",
              "      <td>1.0</td>\n",
              "      <td>1.0</td>\n",
              "      <td>0.0</td>\n",
              "      <td>0.0</td>\n",
              "      <td>1.0</td>\n",
              "      <td>0.0</td>\n",
              "    </tr>\n",
              "  </tbody>\n",
              "</table>\n",
              "<p>24633 rows × 12 columns</p>\n",
              "</div>"
            ],
            "text/plain": [
              "        age  gender  height  weight  ap_hi  ...  gluc  smoke  alco  active  cardio\n",
              "0      50.4       0     168    62.0    110  ...   1.0    0.0   0.0     1.0     0.0\n",
              "1      55.4       1     156    85.0    140  ...   1.0    0.0   0.0     1.0     1.0\n",
              "2      51.6       1     165    64.0    130  ...   1.0    0.0   0.0     0.0     1.0\n",
              "3      48.2       0     169    82.0    150  ...   1.0    0.0   0.0     1.0     1.0\n",
              "4      47.8       1     156    56.0    100  ...   1.0    0.0   0.0     0.0     0.0\n",
              "...     ...     ...     ...     ...    ...  ...   ...    ...   ...     ...     ...\n",
              "25066  50.0       0     156    59.0    120  ...   1.0    1.0   0.0     1.0     0.0\n",
              "25067  52.3       1     159    59.0    120  ...   1.0    0.0   0.0     1.0     1.0\n",
              "25068  46.1       0     175    86.0    140  ...   1.0    1.0   0.0     1.0     1.0\n",
              "25069  53.6       1     162    68.0    110  ...   1.0    0.0   0.0     1.0     1.0\n",
              "25070  40.3       0     162    64.0    120  ...   1.0    0.0   0.0     1.0     0.0\n",
              "\n",
              "[24633 rows x 12 columns]"
            ]
          },
          "metadata": {
            "tags": []
          },
          "execution_count": 9
        }
      ]
    },
    {
      "cell_type": "code",
      "metadata": {
        "id": "iGHIe7I6A5vR"
      },
      "source": [
        "df_copy = pd.DataFrame(data) \r\n",
        "  \r\n",
        "# saving the dataframe \r\n",
        "df_copy.to_csv('file1.csv') "
      ],
      "execution_count": 10,
      "outputs": []
    },
    {
      "cell_type": "markdown",
      "metadata": {
        "id": "N3KGkXSrrJ0e"
      },
      "source": [
        "## Handling non-numeric data"
      ]
    },
    {
      "cell_type": "code",
      "metadata": {
        "id": "6nzn9_gWS3yF"
      },
      "source": [
        "x = df_names.iloc[:,:-1]"
      ],
      "execution_count": 11,
      "outputs": []
    },
    {
      "cell_type": "code",
      "metadata": {
        "id": "5xb6b6WzS72D"
      },
      "source": [
        "y = df_names.iloc[:,-1]"
      ],
      "execution_count": 12,
      "outputs": []
    },
    {
      "cell_type": "code",
      "metadata": {
        "id": "ziMZqUGUTMFc"
      },
      "source": [
        "def handle_non_numerical_data(df):\r\n",
        "    \r\n",
        "    columns = df.columns.values\r\n",
        "\r\n",
        "    for column in columns:\r\n",
        "        text_digit_vals = {}\r\n",
        "        def convert_to_int(val):\r\n",
        "            return text_digit_vals[val]\r\n",
        "\r\n",
        "        #print(column,df[column].dtype)\r\n",
        "        if df[column].dtype != np.int64 and df[column].dtype != np.float64:\r\n",
        "            \r\n",
        "            column_contents = df[column].values.tolist()\r\n",
        "            #finding just the uniques\r\n",
        "            unique_elements = set(column_contents)\r\n",
        "            # great, found them. \r\n",
        "            x = 0\r\n",
        "            for unique in unique_elements:\r\n",
        "                if unique not in text_digit_vals:\r\n",
        "                    text_digit_vals[unique] = x\r\n",
        "                    x+=1\r\n",
        "            df[column] = list(map(convert_to_int,df[column]))\r\n",
        "\r\n",
        "    return df"
      ],
      "execution_count": 13,
      "outputs": []
    },
    {
      "cell_type": "code",
      "metadata": {
        "colab": {
          "base_uri": "https://localhost:8080/",
          "height": 402
        },
        "id": "KLrO2u0lTNl_",
        "outputId": "5797dae9-b5ae-4f4d-aa40-6e29ec556d8b"
      },
      "source": [
        "Xfeatures = handle_non_numerical_data(x)\r\n",
        "Xfeatures"
      ],
      "execution_count": 14,
      "outputs": [
        {
          "output_type": "execute_result",
          "data": {
            "text/html": [
              "<div>\n",
              "<style scoped>\n",
              "    .dataframe tbody tr th:only-of-type {\n",
              "        vertical-align: middle;\n",
              "    }\n",
              "\n",
              "    .dataframe tbody tr th {\n",
              "        vertical-align: top;\n",
              "    }\n",
              "\n",
              "    .dataframe thead th {\n",
              "        text-align: right;\n",
              "    }\n",
              "</style>\n",
              "<table border=\"1\" class=\"dataframe\">\n",
              "  <thead>\n",
              "    <tr style=\"text-align: right;\">\n",
              "      <th></th>\n",
              "      <th>age</th>\n",
              "      <th>gender</th>\n",
              "      <th>height</th>\n",
              "      <th>weight</th>\n",
              "      <th>ap_hi</th>\n",
              "      <th>ap_lo</th>\n",
              "      <th>cholesterol</th>\n",
              "      <th>gluc</th>\n",
              "      <th>smoke</th>\n",
              "      <th>alco</th>\n",
              "      <th>active</th>\n",
              "    </tr>\n",
              "  </thead>\n",
              "  <tbody>\n",
              "    <tr>\n",
              "      <th>0</th>\n",
              "      <td>50.4</td>\n",
              "      <td>0</td>\n",
              "      <td>168</td>\n",
              "      <td>62.0</td>\n",
              "      <td>110</td>\n",
              "      <td>80</td>\n",
              "      <td>1.0</td>\n",
              "      <td>1.0</td>\n",
              "      <td>0.0</td>\n",
              "      <td>0.0</td>\n",
              "      <td>1.0</td>\n",
              "    </tr>\n",
              "    <tr>\n",
              "      <th>1</th>\n",
              "      <td>55.4</td>\n",
              "      <td>1</td>\n",
              "      <td>156</td>\n",
              "      <td>85.0</td>\n",
              "      <td>140</td>\n",
              "      <td>90</td>\n",
              "      <td>3.0</td>\n",
              "      <td>1.0</td>\n",
              "      <td>0.0</td>\n",
              "      <td>0.0</td>\n",
              "      <td>1.0</td>\n",
              "    </tr>\n",
              "    <tr>\n",
              "      <th>2</th>\n",
              "      <td>51.6</td>\n",
              "      <td>1</td>\n",
              "      <td>165</td>\n",
              "      <td>64.0</td>\n",
              "      <td>130</td>\n",
              "      <td>70</td>\n",
              "      <td>3.0</td>\n",
              "      <td>1.0</td>\n",
              "      <td>0.0</td>\n",
              "      <td>0.0</td>\n",
              "      <td>0.0</td>\n",
              "    </tr>\n",
              "    <tr>\n",
              "      <th>3</th>\n",
              "      <td>48.2</td>\n",
              "      <td>0</td>\n",
              "      <td>169</td>\n",
              "      <td>82.0</td>\n",
              "      <td>150</td>\n",
              "      <td>100</td>\n",
              "      <td>1.0</td>\n",
              "      <td>1.0</td>\n",
              "      <td>0.0</td>\n",
              "      <td>0.0</td>\n",
              "      <td>1.0</td>\n",
              "    </tr>\n",
              "    <tr>\n",
              "      <th>4</th>\n",
              "      <td>47.8</td>\n",
              "      <td>1</td>\n",
              "      <td>156</td>\n",
              "      <td>56.0</td>\n",
              "      <td>100</td>\n",
              "      <td>60</td>\n",
              "      <td>1.0</td>\n",
              "      <td>1.0</td>\n",
              "      <td>0.0</td>\n",
              "      <td>0.0</td>\n",
              "      <td>0.0</td>\n",
              "    </tr>\n",
              "    <tr>\n",
              "      <th>...</th>\n",
              "      <td>...</td>\n",
              "      <td>...</td>\n",
              "      <td>...</td>\n",
              "      <td>...</td>\n",
              "      <td>...</td>\n",
              "      <td>...</td>\n",
              "      <td>...</td>\n",
              "      <td>...</td>\n",
              "      <td>...</td>\n",
              "      <td>...</td>\n",
              "      <td>...</td>\n",
              "    </tr>\n",
              "    <tr>\n",
              "      <th>25066</th>\n",
              "      <td>50.0</td>\n",
              "      <td>0</td>\n",
              "      <td>156</td>\n",
              "      <td>59.0</td>\n",
              "      <td>120</td>\n",
              "      <td>80</td>\n",
              "      <td>1.0</td>\n",
              "      <td>1.0</td>\n",
              "      <td>1.0</td>\n",
              "      <td>0.0</td>\n",
              "      <td>1.0</td>\n",
              "    </tr>\n",
              "    <tr>\n",
              "      <th>25067</th>\n",
              "      <td>52.3</td>\n",
              "      <td>1</td>\n",
              "      <td>159</td>\n",
              "      <td>59.0</td>\n",
              "      <td>120</td>\n",
              "      <td>80</td>\n",
              "      <td>1.0</td>\n",
              "      <td>1.0</td>\n",
              "      <td>0.0</td>\n",
              "      <td>0.0</td>\n",
              "      <td>1.0</td>\n",
              "    </tr>\n",
              "    <tr>\n",
              "      <th>25068</th>\n",
              "      <td>46.1</td>\n",
              "      <td>0</td>\n",
              "      <td>175</td>\n",
              "      <td>86.0</td>\n",
              "      <td>140</td>\n",
              "      <td>80</td>\n",
              "      <td>2.0</td>\n",
              "      <td>1.0</td>\n",
              "      <td>1.0</td>\n",
              "      <td>0.0</td>\n",
              "      <td>1.0</td>\n",
              "    </tr>\n",
              "    <tr>\n",
              "      <th>25069</th>\n",
              "      <td>53.6</td>\n",
              "      <td>1</td>\n",
              "      <td>162</td>\n",
              "      <td>68.0</td>\n",
              "      <td>110</td>\n",
              "      <td>60</td>\n",
              "      <td>3.0</td>\n",
              "      <td>1.0</td>\n",
              "      <td>0.0</td>\n",
              "      <td>0.0</td>\n",
              "      <td>1.0</td>\n",
              "    </tr>\n",
              "    <tr>\n",
              "      <th>25070</th>\n",
              "      <td>40.3</td>\n",
              "      <td>0</td>\n",
              "      <td>162</td>\n",
              "      <td>64.0</td>\n",
              "      <td>120</td>\n",
              "      <td>70</td>\n",
              "      <td>1.0</td>\n",
              "      <td>1.0</td>\n",
              "      <td>0.0</td>\n",
              "      <td>0.0</td>\n",
              "      <td>1.0</td>\n",
              "    </tr>\n",
              "  </tbody>\n",
              "</table>\n",
              "<p>24633 rows × 11 columns</p>\n",
              "</div>"
            ],
            "text/plain": [
              "        age  gender  height  weight  ...  gluc  smoke  alco  active\n",
              "0      50.4       0     168    62.0  ...   1.0    0.0   0.0     1.0\n",
              "1      55.4       1     156    85.0  ...   1.0    0.0   0.0     1.0\n",
              "2      51.6       1     165    64.0  ...   1.0    0.0   0.0     0.0\n",
              "3      48.2       0     169    82.0  ...   1.0    0.0   0.0     1.0\n",
              "4      47.8       1     156    56.0  ...   1.0    0.0   0.0     0.0\n",
              "...     ...     ...     ...     ...  ...   ...    ...   ...     ...\n",
              "25066  50.0       0     156    59.0  ...   1.0    1.0   0.0     1.0\n",
              "25067  52.3       1     159    59.0  ...   1.0    0.0   0.0     1.0\n",
              "25068  46.1       0     175    86.0  ...   1.0    1.0   0.0     1.0\n",
              "25069  53.6       1     162    68.0  ...   1.0    0.0   0.0     1.0\n",
              "25070  40.3       0     162    64.0  ...   1.0    0.0   0.0     1.0\n",
              "\n",
              "[24633 rows x 11 columns]"
            ]
          },
          "metadata": {
            "tags": []
          },
          "execution_count": 14
        }
      ]
    },
    {
      "cell_type": "markdown",
      "metadata": {
        "id": "5NfmnTg1rVqY"
      },
      "source": [
        "# Train-Test split 80% - 20%"
      ]
    },
    {
      "cell_type": "markdown",
      "metadata": {
        "id": "ozIcBuClxW1I"
      },
      "source": [
        "*   Train data = 80 %\r\n",
        "\r\n",
        "*   Test data = 20 %"
      ]
    },
    {
      "cell_type": "code",
      "metadata": {
        "id": "0VAKRHYfTV76"
      },
      "source": [
        "from sklearn.model_selection import train_test_split\r\n",
        "\r\n",
        "x_train, x_test, y_train, y_test = train_test_split(Xfeatures, y, test_size=0.20, random_state=10)"
      ],
      "execution_count": 15,
      "outputs": []
    },
    {
      "cell_type": "code",
      "metadata": {
        "colab": {
          "base_uri": "https://localhost:8080/",
          "height": 402
        },
        "id": "zv1UibwRFKQB",
        "outputId": "6857ca3f-7630-4800-b779-65ce96f0b61d"
      },
      "source": [
        "x_train"
      ],
      "execution_count": 16,
      "outputs": [
        {
          "output_type": "execute_result",
          "data": {
            "text/html": [
              "<div>\n",
              "<style scoped>\n",
              "    .dataframe tbody tr th:only-of-type {\n",
              "        vertical-align: middle;\n",
              "    }\n",
              "\n",
              "    .dataframe tbody tr th {\n",
              "        vertical-align: top;\n",
              "    }\n",
              "\n",
              "    .dataframe thead th {\n",
              "        text-align: right;\n",
              "    }\n",
              "</style>\n",
              "<table border=\"1\" class=\"dataframe\">\n",
              "  <thead>\n",
              "    <tr style=\"text-align: right;\">\n",
              "      <th></th>\n",
              "      <th>age</th>\n",
              "      <th>gender</th>\n",
              "      <th>height</th>\n",
              "      <th>weight</th>\n",
              "      <th>ap_hi</th>\n",
              "      <th>ap_lo</th>\n",
              "      <th>cholesterol</th>\n",
              "      <th>gluc</th>\n",
              "      <th>smoke</th>\n",
              "      <th>alco</th>\n",
              "      <th>active</th>\n",
              "    </tr>\n",
              "  </thead>\n",
              "  <tbody>\n",
              "    <tr>\n",
              "      <th>2106</th>\n",
              "      <td>64.2</td>\n",
              "      <td>0</td>\n",
              "      <td>165</td>\n",
              "      <td>62.0</td>\n",
              "      <td>120</td>\n",
              "      <td>80</td>\n",
              "      <td>3.0</td>\n",
              "      <td>3.0</td>\n",
              "      <td>0.0</td>\n",
              "      <td>0.0</td>\n",
              "      <td>0.0</td>\n",
              "    </tr>\n",
              "    <tr>\n",
              "      <th>6744</th>\n",
              "      <td>51.9</td>\n",
              "      <td>1</td>\n",
              "      <td>165</td>\n",
              "      <td>69.0</td>\n",
              "      <td>132</td>\n",
              "      <td>80</td>\n",
              "      <td>2.0</td>\n",
              "      <td>1.0</td>\n",
              "      <td>0.0</td>\n",
              "      <td>0.0</td>\n",
              "      <td>1.0</td>\n",
              "    </tr>\n",
              "    <tr>\n",
              "      <th>3508</th>\n",
              "      <td>57.9</td>\n",
              "      <td>0</td>\n",
              "      <td>166</td>\n",
              "      <td>75.0</td>\n",
              "      <td>120</td>\n",
              "      <td>80</td>\n",
              "      <td>1.0</td>\n",
              "      <td>3.0</td>\n",
              "      <td>0.0</td>\n",
              "      <td>0.0</td>\n",
              "      <td>1.0</td>\n",
              "    </tr>\n",
              "    <tr>\n",
              "      <th>21544</th>\n",
              "      <td>64.1</td>\n",
              "      <td>1</td>\n",
              "      <td>151</td>\n",
              "      <td>75.0</td>\n",
              "      <td>130</td>\n",
              "      <td>80</td>\n",
              "      <td>1.0</td>\n",
              "      <td>1.0</td>\n",
              "      <td>0.0</td>\n",
              "      <td>1.0</td>\n",
              "      <td>0.0</td>\n",
              "    </tr>\n",
              "    <tr>\n",
              "      <th>15953</th>\n",
              "      <td>59.9</td>\n",
              "      <td>0</td>\n",
              "      <td>169</td>\n",
              "      <td>69.0</td>\n",
              "      <td>120</td>\n",
              "      <td>80</td>\n",
              "      <td>3.0</td>\n",
              "      <td>3.0</td>\n",
              "      <td>0.0</td>\n",
              "      <td>0.0</td>\n",
              "      <td>0.0</td>\n",
              "    </tr>\n",
              "    <tr>\n",
              "      <th>...</th>\n",
              "      <td>...</td>\n",
              "      <td>...</td>\n",
              "      <td>...</td>\n",
              "      <td>...</td>\n",
              "      <td>...</td>\n",
              "      <td>...</td>\n",
              "      <td>...</td>\n",
              "      <td>...</td>\n",
              "      <td>...</td>\n",
              "      <td>...</td>\n",
              "      <td>...</td>\n",
              "    </tr>\n",
              "    <tr>\n",
              "      <th>9549</th>\n",
              "      <td>58.2</td>\n",
              "      <td>1</td>\n",
              "      <td>164</td>\n",
              "      <td>51.0</td>\n",
              "      <td>160</td>\n",
              "      <td>90</td>\n",
              "      <td>1.0</td>\n",
              "      <td>1.0</td>\n",
              "      <td>0.0</td>\n",
              "      <td>0.0</td>\n",
              "      <td>1.0</td>\n",
              "    </tr>\n",
              "    <tr>\n",
              "      <th>7426</th>\n",
              "      <td>53.3</td>\n",
              "      <td>1</td>\n",
              "      <td>155</td>\n",
              "      <td>78.0</td>\n",
              "      <td>125</td>\n",
              "      <td>70</td>\n",
              "      <td>2.0</td>\n",
              "      <td>1.0</td>\n",
              "      <td>0.0</td>\n",
              "      <td>0.0</td>\n",
              "      <td>1.0</td>\n",
              "    </tr>\n",
              "    <tr>\n",
              "      <th>18035</th>\n",
              "      <td>48.8</td>\n",
              "      <td>0</td>\n",
              "      <td>173</td>\n",
              "      <td>73.0</td>\n",
              "      <td>110</td>\n",
              "      <td>80</td>\n",
              "      <td>1.0</td>\n",
              "      <td>1.0</td>\n",
              "      <td>1.0</td>\n",
              "      <td>0.0</td>\n",
              "      <td>1.0</td>\n",
              "    </tr>\n",
              "    <tr>\n",
              "      <th>7428</th>\n",
              "      <td>54.2</td>\n",
              "      <td>1</td>\n",
              "      <td>169</td>\n",
              "      <td>72.0</td>\n",
              "      <td>130</td>\n",
              "      <td>80</td>\n",
              "      <td>1.0</td>\n",
              "      <td>1.0</td>\n",
              "      <td>0.0</td>\n",
              "      <td>0.0</td>\n",
              "      <td>0.0</td>\n",
              "    </tr>\n",
              "    <tr>\n",
              "      <th>17980</th>\n",
              "      <td>48.3</td>\n",
              "      <td>0</td>\n",
              "      <td>172</td>\n",
              "      <td>80.0</td>\n",
              "      <td>122</td>\n",
              "      <td>85</td>\n",
              "      <td>1.0</td>\n",
              "      <td>1.0</td>\n",
              "      <td>0.0</td>\n",
              "      <td>0.0</td>\n",
              "      <td>0.0</td>\n",
              "    </tr>\n",
              "  </tbody>\n",
              "</table>\n",
              "<p>19706 rows × 11 columns</p>\n",
              "</div>"
            ],
            "text/plain": [
              "        age  gender  height  weight  ...  gluc  smoke  alco  active\n",
              "2106   64.2       0     165    62.0  ...   3.0    0.0   0.0     0.0\n",
              "6744   51.9       1     165    69.0  ...   1.0    0.0   0.0     1.0\n",
              "3508   57.9       0     166    75.0  ...   3.0    0.0   0.0     1.0\n",
              "21544  64.1       1     151    75.0  ...   1.0    0.0   1.0     0.0\n",
              "15953  59.9       0     169    69.0  ...   3.0    0.0   0.0     0.0\n",
              "...     ...     ...     ...     ...  ...   ...    ...   ...     ...\n",
              "9549   58.2       1     164    51.0  ...   1.0    0.0   0.0     1.0\n",
              "7426   53.3       1     155    78.0  ...   1.0    0.0   0.0     1.0\n",
              "18035  48.8       0     173    73.0  ...   1.0    1.0   0.0     1.0\n",
              "7428   54.2       1     169    72.0  ...   1.0    0.0   0.0     0.0\n",
              "17980  48.3       0     172    80.0  ...   1.0    0.0   0.0     0.0\n",
              "\n",
              "[19706 rows x 11 columns]"
            ]
          },
          "metadata": {
            "tags": []
          },
          "execution_count": 16
        }
      ]
    },
    {
      "cell_type": "code",
      "metadata": {
        "id": "L61TGQWNFPMd",
        "colab": {
          "base_uri": "https://localhost:8080/"
        },
        "outputId": "7732b303-62ed-4d64-f11b-b09f40937729"
      },
      "source": [
        "y_train"
      ],
      "execution_count": 17,
      "outputs": [
        {
          "output_type": "execute_result",
          "data": {
            "text/plain": [
              "2106     1.0\n",
              "6744     0.0\n",
              "3508     0.0\n",
              "21544    1.0\n",
              "15953    1.0\n",
              "        ... \n",
              "9549     1.0\n",
              "7426     0.0\n",
              "18035    1.0\n",
              "7428     0.0\n",
              "17980    0.0\n",
              "Name: cardio, Length: 19706, dtype: float64"
            ]
          },
          "metadata": {
            "tags": []
          },
          "execution_count": 17
        }
      ]
    },
    {
      "cell_type": "markdown",
      "metadata": {
        "id": "gRwRxlaGre_G"
      },
      "source": [
        "# Applying multiple Machine Learning algorithms and showing results"
      ]
    },
    {
      "cell_type": "markdown",
      "metadata": {
        "id": "wIIi6VmPx50j"
      },
      "source": [
        "    'Logistic Regression'\r\n",
        "    'Decision Tree'\r\n",
        "    'Random Forest'\r\n",
        "    'Support Vector Machines'\r\n",
        "    'K-nearest Neighbors'\r\n",
        "  \r\n",
        "\r\n"
      ]
    },
    {
      "cell_type": "code",
      "metadata": {
        "colab": {
          "base_uri": "https://localhost:8080/",
          "height": 195
        },
        "id": "OyD-y-zeSCEE",
        "outputId": "345f86de-b01f-426e-b43e-6ebcc2e6bee5"
      },
      "source": [
        "# importing classifiers\r\n",
        "from sklearn.linear_model import LogisticRegression\r\n",
        "from sklearn.tree import DecisionTreeClassifier\r\n",
        "from sklearn.ensemble import RandomForestClassifier\r\n",
        "from sklearn.svm import SVC\r\n",
        "from sklearn.neighbors import KNeighborsClassifier\r\n",
        "from xgboost import XGBClassifier\r\n",
        "from sklearn.metrics import f1_score,accuracy_score,classification_report\r\n",
        "\r\n",
        "classifiers = {\r\n",
        "    'Logistic Regression' : LogisticRegression(),\r\n",
        "    'Decision Tree' : DecisionTreeClassifier(),\r\n",
        "    'Random Forest' : RandomForestClassifier(),\r\n",
        "    'Support Vector Machines' : SVC(),\r\n",
        "    'K-nearest Neighbors' : KNeighborsClassifier()   \r\n",
        "}\r\n",
        "results=pd.DataFrame(columns=['Accuracy in %','F1-score'])\r\n",
        "for method,func in classifiers.items():\r\n",
        "    func.fit(x_train,y_train)\r\n",
        "    pred = func.predict(x_test)\r\n",
        "    results.loc[method]= [100*np.round(accuracy_score(y_test,pred),decimals=4),\r\n",
        "                         round(f1_score(y_test,pred),2)]\r\n",
        "results"
      ],
      "execution_count": 24,
      "outputs": [
        {
          "output_type": "execute_result",
          "data": {
            "text/html": [
              "<div>\n",
              "<style scoped>\n",
              "    .dataframe tbody tr th:only-of-type {\n",
              "        vertical-align: middle;\n",
              "    }\n",
              "\n",
              "    .dataframe tbody tr th {\n",
              "        vertical-align: top;\n",
              "    }\n",
              "\n",
              "    .dataframe thead th {\n",
              "        text-align: right;\n",
              "    }\n",
              "</style>\n",
              "<table border=\"1\" class=\"dataframe\">\n",
              "  <thead>\n",
              "    <tr style=\"text-align: right;\">\n",
              "      <th></th>\n",
              "      <th>Accuracy in %</th>\n",
              "      <th>F1-score</th>\n",
              "    </tr>\n",
              "  </thead>\n",
              "  <tbody>\n",
              "    <tr>\n",
              "      <th>Logistic Regression</th>\n",
              "      <td>72.09</td>\n",
              "      <td>0.70</td>\n",
              "    </tr>\n",
              "    <tr>\n",
              "      <th>Decision Tree</th>\n",
              "      <td>63.26</td>\n",
              "      <td>0.63</td>\n",
              "    </tr>\n",
              "    <tr>\n",
              "      <th>Random Forest</th>\n",
              "      <td>72.60</td>\n",
              "      <td>0.71</td>\n",
              "    </tr>\n",
              "    <tr>\n",
              "      <th>Support Vector Machines</th>\n",
              "      <td>73.35</td>\n",
              "      <td>0.70</td>\n",
              "    </tr>\n",
              "    <tr>\n",
              "      <th>K-nearest Neighbors</th>\n",
              "      <td>69.41</td>\n",
              "      <td>0.68</td>\n",
              "    </tr>\n",
              "  </tbody>\n",
              "</table>\n",
              "</div>"
            ],
            "text/plain": [
              "                         Accuracy in %  F1-score\n",
              "Logistic Regression              72.09      0.70\n",
              "Decision Tree                    63.26      0.63\n",
              "Random Forest                    72.60      0.71\n",
              "Support Vector Machines          73.35      0.70\n",
              "K-nearest Neighbors              69.41      0.68"
            ]
          },
          "metadata": {
            "tags": []
          },
          "execution_count": 24
        }
      ]
    },
    {
      "cell_type": "markdown",
      "metadata": {
        "id": "-bDcJ7OrrsNQ"
      },
      "source": [
        "## Saving Machine Learning model with highest accuracy"
      ]
    },
    {
      "cell_type": "code",
      "metadata": {
        "id": "yEoeMjl4c9vg"
      },
      "source": [
        "import pickle\r\n",
        "\r\n",
        "# Fit the model on training set\r\n",
        "model =  SVC()\r\n",
        "model.fit(x_train, y_train)\r\n",
        "\r\n",
        "\r\n",
        "# save the model to disk\r\n",
        "filename = 'HDD_model.sav'\r\n",
        "pickle.dump(model, open(filename, 'wb'))"
      ],
      "execution_count": 19,
      "outputs": []
    },
    {
      "cell_type": "markdown",
      "metadata": {
        "id": "bYTKIDdEr37y"
      },
      "source": [
        "## Loading Machine Learning model"
      ]
    },
    {
      "cell_type": "code",
      "metadata": {
        "colab": {
          "base_uri": "https://localhost:8080/"
        },
        "id": "aNlgqTzY-0sc",
        "outputId": "da9942a2-014b-4bf7-ac8e-629ca6e723e1"
      },
      "source": [
        "# load the model from disk\r\n",
        "loaded_model = pickle.load(open(filename, 'rb'))\r\n",
        "result = loaded_model.score(x_test, y_test)\r\n",
        "print(result)"
      ],
      "execution_count": 20,
      "outputs": [
        {
          "output_type": "stream",
          "text": [
            "0.7335092348284961\n"
          ],
          "name": "stdout"
        }
      ]
    },
    {
      "cell_type": "markdown",
      "metadata": {
        "id": "v6CqD44vsAef"
      },
      "source": [
        "## Making Prediction with trained Machine Learning Model"
      ]
    },
    {
      "cell_type": "markdown",
      "metadata": {
        "id": "vi6ayFnBuRUe"
      },
      "source": [
        "\r\n",
        "**Input:**\r\n",
        "\r\n",
        "    'Age', in years\r\n",
        "    'Gender', 0 male 1 female\r\n",
        "    'Height', in cm \r\n",
        "    'Weight', in kg\r\n",
        "    'Systolic blood pressure', \r\n",
        "    'Diastolic blood pressure', \r\n",
        "    'cholestrol', 1, 2, 3\r\n",
        "    'Glucose', 1, 2, 3\r\n",
        "    'Smoking', 1/0\r\n",
        "    'Alcohol intake', 1/0\r\n",
        "    'Physical activity'1/0\r\n",
        "\r\n",
        "**Output:**\r\n",
        "\r\n",
        "    'Presence or absence of cardiovascular disease'"
      ]
    },
    {
      "cell_type": "markdown",
      "metadata": {
        "id": "NCLC-TsUzVyp"
      },
      "source": [
        "**Prediction**"
      ]
    },
    {
      "cell_type": "code",
      "metadata": {
        "id": "D05F_vHAALCM"
      },
      "source": [
        "sample_data = [[50, 1, 168, 80, 140, 90, 3, 2, 1, 1, 1]]\r\n",
        "samples_to_predict = np.array(sample_data)\r\n",
        "prediction = loaded_model.predict(samples_to_predict)"
      ],
      "execution_count": 28,
      "outputs": []
    },
    {
      "cell_type": "code",
      "metadata": {
        "colab": {
          "base_uri": "https://localhost:8080/"
        },
        "id": "d4RbhCMBojIk",
        "outputId": "3d52abfb-884b-4c5b-867d-1673e36be151"
      },
      "source": [
        "print(prediction)"
      ],
      "execution_count": 29,
      "outputs": [
        {
          "output_type": "stream",
          "text": [
            "[1.]\n"
          ],
          "name": "stdout"
        }
      ]
    }
  ]
}